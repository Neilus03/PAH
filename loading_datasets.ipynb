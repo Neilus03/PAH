{
 "cells": [
  {
   "cell_type": "markdown",
   "metadata": {},
   "source": [
    "Split-MNIST"
   ]
  },
  {
   "cell_type": "code",
   "execution_count": 14,
   "metadata": {},
   "outputs": [
    {
     "name": "stdout",
     "output_type": "stream",
     "text": [
      "Final Split-MNIST Test Set Size: 6003\n"
     ]
    }
   ],
   "source": [
    "from torchvision import datasets, transforms\n",
    "from torch.utils.data import DataLoader, random_split, ConcatDataset, TensorDataset\n",
    "from PIL import Image\n",
    "import torch\n",
    "\n",
    "# Download MNIST dataset\n",
    "fmnist = datasets.MNIST(root='data/', train=True, download=True)\n",
    "fmnist.name, fmnist.num_classes = 'MNIST', 10\n",
    "\n",
    "# Define task splits\n",
    "timestep_task_classes = {\n",
    "    0: [0, 1],  # Task 0: Classes 0 and 1\n",
    "    1: [2, 3],  # Task 1: Classes 2 and 3\n",
    "    2: [4, 5],  # Task 2: Classes 4 and 5\n",
    "    3: [6, 7],  # Task 3: Classes 6 and 7\n",
    "    4: [8, 9]   # Task 4: Classes 8 and 9\n",
    "}\n",
    "\n",
    "# Transformations\n",
    "preprocess = transforms.Compose([\n",
    "    transforms.ToTensor(),\n",
    "    transforms.Normalize((0.5,), (0.5,))\n",
    "])\n",
    "\n",
    "# Prepare tasks\n",
    "VAL_FRAC = 0.1\n",
    "TEST_FRAC = 0.1\n",
    "BATCH_SIZE = 256\n",
    "\n",
    "timestep_tasks = {}\n",
    "task_test_sets = []\n",
    "\n",
    "for t, task_classes in timestep_task_classes.items():\n",
    "    # Get indices for current task classes\n",
    "    task_indices = [i for i, label in enumerate(fmnist.targets) if label in task_classes]\n",
    "    \n",
    "    # Map old labels to 0-based labels for the task\n",
    "    class_to_idx = {orig: idx for idx, orig in enumerate(task_classes)}\n",
    "    task_images = [Image.fromarray(fmnist.data[i].numpy(), mode='L') for i in task_indices]\n",
    "    task_labels = [class_to_idx[fmnist.targets[i].item()] for i in task_indices]\n",
    "    \n",
    "    # Create tensors\n",
    "    task_images_tensor = torch.stack([preprocess(img) for img in task_images])\n",
    "    task_labels_tensor = torch.tensor(task_labels, dtype=torch.long)\n",
    "    task_ids_tensor = torch.full((len(task_labels_tensor),), t, dtype=torch.long)\n",
    "    \n",
    "    # TensorDataset\n",
    "    task_dataset = TensorDataset(task_images_tensor, task_labels_tensor, task_ids_tensor)\n",
    "    \n",
    "    # Train/Validation/Test split\n",
    "    train_size = int((1 - VAL_FRAC - TEST_FRAC) * len(task_dataset))\n",
    "    val_size = int(VAL_FRAC * len(task_dataset))\n",
    "    test_size = len(task_dataset) - train_size - val_size\n",
    "    train_set, val_set, test_set = random_split(task_dataset, [train_size, val_size, test_size])\n",
    "    \n",
    "    # Store\n",
    "    timestep_tasks[t] = (train_set, val_set)\n",
    "    task_test_sets.append(test_set)\n",
    "\n",
    "# Final datasets\n",
    "final_test_data = ConcatDataset(task_test_sets)\n",
    "final_test_loader = DataLoader(final_test_data, batch_size=BATCH_SIZE, shuffle=True)\n",
    "print(f\"Final Split-MNIST Test Set Size: {len(final_test_data)}\")\n"
   ]
  },
  {
   "cell_type": "markdown",
   "metadata": {},
   "source": [
    "Split-CIFAR100"
   ]
  },
  {
   "cell_type": "code",
   "execution_count": 8,
   "metadata": {},
   "outputs": [
    {
     "name": "stdout",
     "output_type": "stream",
     "text": [
      "Files already downloaded and verified\n"
     ]
    },
    {
     "ename": "TypeError",
     "evalue": "pic should be Tensor or ndarray. Got <class 'PIL.Image.Image'>.",
     "output_type": "error",
     "traceback": [
      "\u001b[0;31m---------------------------------------------------------------------------\u001b[0m",
      "\u001b[0;31mTypeError\u001b[0m                                 Traceback (most recent call last)",
      "Cell \u001b[0;32mIn[8], line 44\u001b[0m\n\u001b[1;32m     41\u001b[0m task_labels \u001b[38;5;241m=\u001b[39m [class_to_idx[cifar100\u001b[38;5;241m.\u001b[39mtargets[i]] \u001b[38;5;28;01mfor\u001b[39;00m i \u001b[38;5;129;01min\u001b[39;00m task_indices]\n\u001b[1;32m     43\u001b[0m \u001b[38;5;66;03m# Create tensors\u001b[39;00m\n\u001b[0;32m---> 44\u001b[0m task_images_tensor \u001b[38;5;241m=\u001b[39m torch\u001b[38;5;241m.\u001b[39mstack(\u001b[43m[\u001b[49m\u001b[43mpreprocess\u001b[49m\u001b[43m(\u001b[49m\u001b[43mimg\u001b[49m\u001b[43m)\u001b[49m\u001b[43m \u001b[49m\u001b[38;5;28;43;01mfor\u001b[39;49;00m\u001b[43m \u001b[49m\u001b[43mimg\u001b[49m\u001b[43m \u001b[49m\u001b[38;5;129;43;01min\u001b[39;49;00m\u001b[43m \u001b[49m\u001b[43mtask_images\u001b[49m\u001b[43m]\u001b[49m)\n\u001b[1;32m     45\u001b[0m task_labels_tensor \u001b[38;5;241m=\u001b[39m torch\u001b[38;5;241m.\u001b[39mtensor(task_labels, dtype\u001b[38;5;241m=\u001b[39mtorch\u001b[38;5;241m.\u001b[39mlong)\n\u001b[1;32m     46\u001b[0m task_ids_tensor \u001b[38;5;241m=\u001b[39m torch\u001b[38;5;241m.\u001b[39mfull((\u001b[38;5;28mlen\u001b[39m(task_labels_tensor),), t, dtype\u001b[38;5;241m=\u001b[39mtorch\u001b[38;5;241m.\u001b[39mlong)\n",
      "Cell \u001b[0;32mIn[8], line 44\u001b[0m, in \u001b[0;36m<listcomp>\u001b[0;34m(.0)\u001b[0m\n\u001b[1;32m     41\u001b[0m task_labels \u001b[38;5;241m=\u001b[39m [class_to_idx[cifar100\u001b[38;5;241m.\u001b[39mtargets[i]] \u001b[38;5;28;01mfor\u001b[39;00m i \u001b[38;5;129;01min\u001b[39;00m task_indices]\n\u001b[1;32m     43\u001b[0m \u001b[38;5;66;03m# Create tensors\u001b[39;00m\n\u001b[0;32m---> 44\u001b[0m task_images_tensor \u001b[38;5;241m=\u001b[39m torch\u001b[38;5;241m.\u001b[39mstack([\u001b[43mpreprocess\u001b[49m\u001b[43m(\u001b[49m\u001b[43mimg\u001b[49m\u001b[43m)\u001b[49m \u001b[38;5;28;01mfor\u001b[39;00m img \u001b[38;5;129;01min\u001b[39;00m task_images])\n\u001b[1;32m     45\u001b[0m task_labels_tensor \u001b[38;5;241m=\u001b[39m torch\u001b[38;5;241m.\u001b[39mtensor(task_labels, dtype\u001b[38;5;241m=\u001b[39mtorch\u001b[38;5;241m.\u001b[39mlong)\n\u001b[1;32m     46\u001b[0m task_ids_tensor \u001b[38;5;241m=\u001b[39m torch\u001b[38;5;241m.\u001b[39mfull((\u001b[38;5;28mlen\u001b[39m(task_labels_tensor),), t, dtype\u001b[38;5;241m=\u001b[39mtorch\u001b[38;5;241m.\u001b[39mlong)\n",
      "File \u001b[0;32m~/miniconda3/envs/pytorch-env/lib/python3.11/site-packages/torchvision/transforms/transforms.py:95\u001b[0m, in \u001b[0;36mCompose.__call__\u001b[0;34m(self, img)\u001b[0m\n\u001b[1;32m     93\u001b[0m \u001b[38;5;28;01mdef\u001b[39;00m \u001b[38;5;21m__call__\u001b[39m(\u001b[38;5;28mself\u001b[39m, img):\n\u001b[1;32m     94\u001b[0m     \u001b[38;5;28;01mfor\u001b[39;00m t \u001b[38;5;129;01min\u001b[39;00m \u001b[38;5;28mself\u001b[39m\u001b[38;5;241m.\u001b[39mtransforms:\n\u001b[0;32m---> 95\u001b[0m         img \u001b[38;5;241m=\u001b[39m \u001b[43mt\u001b[49m\u001b[43m(\u001b[49m\u001b[43mimg\u001b[49m\u001b[43m)\u001b[49m\n\u001b[1;32m     96\u001b[0m     \u001b[38;5;28;01mreturn\u001b[39;00m img\n",
      "File \u001b[0;32m~/miniconda3/envs/pytorch-env/lib/python3.11/site-packages/torchvision/transforms/transforms.py:234\u001b[0m, in \u001b[0;36mToPILImage.__call__\u001b[0;34m(self, pic)\u001b[0m\n\u001b[1;32m    225\u001b[0m \u001b[38;5;28;01mdef\u001b[39;00m \u001b[38;5;21m__call__\u001b[39m(\u001b[38;5;28mself\u001b[39m, pic):\n\u001b[1;32m    226\u001b[0m \u001b[38;5;250m    \u001b[39m\u001b[38;5;124;03m\"\"\"\u001b[39;00m\n\u001b[1;32m    227\u001b[0m \u001b[38;5;124;03m    Args:\u001b[39;00m\n\u001b[1;32m    228\u001b[0m \u001b[38;5;124;03m        pic (Tensor or numpy.ndarray): Image to be converted to PIL Image.\u001b[39;00m\n\u001b[0;32m   (...)\u001b[0m\n\u001b[1;32m    232\u001b[0m \n\u001b[1;32m    233\u001b[0m \u001b[38;5;124;03m    \"\"\"\u001b[39;00m\n\u001b[0;32m--> 234\u001b[0m     \u001b[38;5;28;01mreturn\u001b[39;00m \u001b[43mF\u001b[49m\u001b[38;5;241;43m.\u001b[39;49m\u001b[43mto_pil_image\u001b[49m\u001b[43m(\u001b[49m\u001b[43mpic\u001b[49m\u001b[43m,\u001b[49m\u001b[43m \u001b[49m\u001b[38;5;28;43mself\u001b[39;49m\u001b[38;5;241;43m.\u001b[39;49m\u001b[43mmode\u001b[49m\u001b[43m)\u001b[49m\n",
      "File \u001b[0;32m~/miniconda3/envs/pytorch-env/lib/python3.11/site-packages/torchvision/transforms/functional.py:262\u001b[0m, in \u001b[0;36mto_pil_image\u001b[0;34m(pic, mode)\u001b[0m\n\u001b[1;32m    259\u001b[0m     _log_api_usage_once(to_pil_image)\n\u001b[1;32m    261\u001b[0m \u001b[38;5;28;01mif\u001b[39;00m \u001b[38;5;129;01mnot\u001b[39;00m (\u001b[38;5;28misinstance\u001b[39m(pic, torch\u001b[38;5;241m.\u001b[39mTensor) \u001b[38;5;129;01mor\u001b[39;00m \u001b[38;5;28misinstance\u001b[39m(pic, np\u001b[38;5;241m.\u001b[39mndarray)):\n\u001b[0;32m--> 262\u001b[0m     \u001b[38;5;28;01mraise\u001b[39;00m \u001b[38;5;167;01mTypeError\u001b[39;00m(\u001b[38;5;124mf\u001b[39m\u001b[38;5;124m\"\u001b[39m\u001b[38;5;124mpic should be Tensor or ndarray. Got \u001b[39m\u001b[38;5;132;01m{\u001b[39;00m\u001b[38;5;28mtype\u001b[39m(pic)\u001b[38;5;132;01m}\u001b[39;00m\u001b[38;5;124m.\u001b[39m\u001b[38;5;124m\"\u001b[39m)\n\u001b[1;32m    264\u001b[0m \u001b[38;5;28;01melif\u001b[39;00m \u001b[38;5;28misinstance\u001b[39m(pic, torch\u001b[38;5;241m.\u001b[39mTensor):\n\u001b[1;32m    265\u001b[0m     \u001b[38;5;28;01mif\u001b[39;00m pic\u001b[38;5;241m.\u001b[39mndimension() \u001b[38;5;129;01mnot\u001b[39;00m \u001b[38;5;129;01min\u001b[39;00m {\u001b[38;5;241m2\u001b[39m, \u001b[38;5;241m3\u001b[39m}:\n",
      "\u001b[0;31mTypeError\u001b[0m: pic should be Tensor or ndarray. Got <class 'PIL.Image.Image'>."
     ]
    }
   ],
   "source": [
    "from torchvision import datasets, transforms\n",
    "from PIL import Image\n",
    "from torch.utils.data import DataLoader, random_split, ConcatDataset, TensorDataset\n",
    "import torch\n",
    "\n",
    "# Download CIFAR-100 dataset\n",
    "cifar100 = datasets.CIFAR100(root='data/', train=True, download=True)\n",
    "cifar100.name, cifar100.num_classes = 'CIFAR-100', 100\n",
    "\n",
    "# Define task splits\n",
    "NUM_TASKS = 10\n",
    "task_classes_per_task = 100 // NUM_TASKS\n",
    "\n",
    "timestep_task_classes = {\n",
    "    t: list(range(t * task_classes_per_task, (t + 1) * task_classes_per_task))\n",
    "    for t in range(NUM_TASKS)\n",
    "}\n",
    "\n",
    "# Transformations\n",
    "preprocess = transforms.Compose([\n",
    "    transforms.ToPILImage(),\n",
    "    transforms.ToTensor(),\n",
    "    transforms.Normalize((0.5, 0.5, 0.5), (0.5, 0.5, 0.5))\n",
    "])\n",
    "\n",
    "# Prepare tasks\n",
    "VAL_FRAC = 0.1\n",
    "TEST_FRAC = 0.1\n",
    "BATCH_SIZE = 256\n",
    "\n",
    "timestep_tasks = {}\n",
    "task_test_sets = []\n",
    "\n",
    "for t, task_classes in timestep_task_classes.items():\n",
    "    # Get indices for current task classes\n",
    "    task_indices = [i for i, label in enumerate(cifar100.targets) if label in task_classes]\n",
    "    \n",
    "    # Map old labels to 0-based labels for the task\n",
    "    class_to_idx = {orig: idx for idx, orig in enumerate(task_classes)}\n",
    "    task_images = [Image.fromarray(cifar100.data[i]) for i in task_indices]\n",
    "    task_labels = [class_to_idx[cifar100.targets[i]] for i in task_indices]\n",
    "    \n",
    "    # Create tensors\n",
    "    task_images_tensor = torch.stack([preprocess(img) for img in task_images])\n",
    "    task_labels_tensor = torch.tensor(task_labels, dtype=torch.long)\n",
    "    task_ids_tensor = torch.full((len(task_labels_tensor),), t, dtype=torch.long)\n",
    "    \n",
    "    # TensorDataset\n",
    "    task_dataset = TensorDataset(task_images_tensor, task_labels_tensor, task_ids_tensor)\n",
    "    \n",
    "    # Train/Validation/Test split\n",
    "    train_size = int((1 - VAL_FRAC - TEST_FRAC) * len(task_dataset))\n",
    "    val_size = int(VAL_FRAC * len(task_dataset))\n",
    "    test_size = len(task_dataset) - train_size - val_size\n",
    "    train_set, val_set, test_set = random_split(task_dataset, [train_size, val_size, test_size])\n",
    "    \n",
    "    # Store\n",
    "    timestep_tasks[t] = (train_set, val_set)\n",
    "    task_test_sets.append(test_set)\n",
    "\n",
    "# Final datasets\n",
    "final_test_data = ConcatDataset(task_test_sets)\n",
    "final_test_loader = DataLoader(final_test_data, batch_size=BATCH_SIZE, shuffle=True)\n",
    "print(f\"Final Split-CIFAR-100 Test Set Size: {len(final_test_data)}\")\n"
   ]
  },
  {
   "cell_type": "markdown",
   "metadata": {},
   "source": [
    "TinyImagenet\n"
   ]
  },
  {
   "cell_type": "code",
   "execution_count": null,
   "metadata": {},
   "outputs": [],
   "source": [
    "#!wget http://cs231n.stanford.edu/tiny-imagenet-200.zip\n",
    "#!unzip tiny-imagenet-200.zip -d tiny-imagenet-200\n"
   ]
  },
  {
   "cell_type": "code",
   "execution_count": 13,
   "metadata": {},
   "outputs": [
    {
     "name": "stdout",
     "output_type": "stream",
     "text": [
      "Final Tiny ImageNet Test Set Size: 10000\n"
     ]
    }
   ],
   "source": [
    "from torchvision import datasets, transforms\n",
    "import os\n",
    "from torch.utils.data import DataLoader, random_split, ConcatDataset, TensorDataset\n",
    "import torch\n",
    "\n",
    "# Tiny ImageNet directory\n",
    "data_dir = '/home/ndelafuente/TSR-5/tiny-imagenet-200/tiny-imagenet-200'\n",
    "\n",
    "# Transformations\n",
    "preprocess = transforms.Compose([\n",
    "    transforms.Resize((64, 64)),\n",
    "    transforms.ToTensor(),\n",
    "    transforms.Normalize((0.485, 0.456, 0.406), (0.229, 0.224, 0.225))\n",
    "])\n",
    "\n",
    "# Load dataset\n",
    "tiny_imagenet_train = datasets.ImageFolder(os.path.join(data_dir, 'train'), transform=preprocess)\n",
    "\n",
    "# Define task splits\n",
    "NUM_TASKS = 10\n",
    "task_classes_per_task = 200 // NUM_TASKS\n",
    "\n",
    "timestep_task_classes = {\n",
    "    t: list(range(t * task_classes_per_task, (t + 1) * task_classes_per_task))\n",
    "    for t in range(NUM_TASKS)\n",
    "}\n",
    "\n",
    "# Prepare tasks\n",
    "VAL_FRAC = 0.1\n",
    "TEST_FRAC = 0.1\n",
    "BATCH_SIZE = 256\n",
    "\n",
    "timestep_tasks = {}\n",
    "task_test_sets = []\n",
    "\n",
    "for t, task_classes in timestep_task_classes.items():\n",
    "    # Get indices for current task classes\n",
    "    task_indices = [i for i, (_, label) in enumerate(tiny_imagenet_train.samples) if label in task_classes]\n",
    "    \n",
    "    # Map old labels to 0-based labels for the task\n",
    "    class_to_idx = {orig: idx for idx, orig in enumerate(task_classes)}\n",
    "    task_images = [tiny_imagenet_train[i][0] for i in task_indices]\n",
    "    task_labels = [class_to_idx[tiny_imagenet_train[i][1]] for i in task_indices]\n",
    "    \n",
    "    # Create tensors\n",
    "    task_images_tensor = torch.stack([img for img in task_images])\n",
    "    task_labels_tensor = torch.tensor(task_labels, dtype=torch.long)\n",
    "    task_ids_tensor = torch.full((len(task_labels_tensor),), t, dtype=torch.long)\n",
    "    \n",
    "    # TensorDataset\n",
    "    task_dataset = TensorDataset(task_images_tensor, task_labels_tensor, task_ids_tensor)\n",
    "    \n",
    "    # Train/Validation/Test split\n",
    "    train_size = int((1 - VAL_FRAC - TEST_FRAC) * len(task_dataset))\n",
    "    val_size = int(VAL_FRAC * len(task_dataset))\n",
    "    test_size = len(task_dataset) - train_size - val_size\n",
    "    train_set, val_set, test_set = random_split(task_dataset, [train_size, val_size, test_size])\n",
    "    \n",
    "    # Store\n",
    "    timestep_tasks[t] = (train_set, val_set)\n",
    "    task_test_sets.append(test_set)\n",
    "\n",
    "# Final datasets\n",
    "final_test_data = ConcatDataset(task_test_sets)\n",
    "final_test_loader = DataLoader(final_test_data, batch_size=BATCH_SIZE, shuffle=True)\n",
    "print(f\"Final Tiny ImageNet Test Set Size: {len(final_test_data)}\")\n"
   ]
  },
  {
   "cell_type": "code",
   "execution_count": null,
   "metadata": {},
   "outputs": [],
   "source": []
  }
 ],
 "metadata": {
  "kernelspec": {
   "display_name": "pytorch-env",
   "language": "python",
   "name": "python3"
  },
  "language_info": {
   "codemirror_mode": {
    "name": "ipython",
    "version": 3
   },
   "file_extension": ".py",
   "mimetype": "text/x-python",
   "name": "python",
   "nbconvert_exporter": "python",
   "pygments_lexer": "ipython3",
   "version": "3.11.5"
  }
 },
 "nbformat": 4,
 "nbformat_minor": 2
}
